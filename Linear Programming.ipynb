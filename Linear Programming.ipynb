{
 "cells": [
  {
   "cell_type": "markdown",
   "metadata": {},
   "source": [
    "# Linear programming and discrete optimization using Python with PuLP"
   ]
  },
  {
   "cell_type": "code",
   "execution_count": 1,
   "metadata": {},
   "outputs": [],
   "source": [
    "# !pip install pulp"
   ]
  },
  {
   "cell_type": "code",
   "execution_count": 2,
   "metadata": {},
   "outputs": [
    {
     "name": "stderr",
     "output_type": "stream",
     "text": [
      "C:\\Users\\User\\anaconda3\\lib\\site-packages\\numpy\\_distributor_init.py:32: UserWarning: loaded more than 1 DLL from .libs:\n",
      "C:\\Users\\User\\anaconda3\\lib\\site-packages\\numpy\\.libs\\libopenblas.NOIJJG62EMASZI6NYURL6JBKM4EVBGM7.gfortran-win_amd64.dll\n",
      "C:\\Users\\User\\anaconda3\\lib\\site-packages\\numpy\\.libs\\libopenblas.PYQHXLVVQ7VESDPUVUADXEVJOBGHJPAY.gfortran-win_amd64.dll\n",
      "  stacklevel=1)\n"
     ]
    }
   ],
   "source": [
    "from pulp import *\n",
    "import pandas as pd"
   ]
  },
  {
   "cell_type": "markdown",
   "metadata": {},
   "source": [
    "### Load and Prepare Data"
   ]
  },
  {
   "cell_type": "code",
   "execution_count": 3,
   "metadata": {},
   "outputs": [],
   "source": [
    "# Read the first few rows dataset in a Pandas DataFrame\n",
    "# Read only the nutrition info not the bounds/constraints\n",
    "df = pd.read_excel(\"Food.xlsx\",nrows=17)"
   ]
  },
  {
   "cell_type": "code",
   "execution_count": 4,
   "metadata": {},
   "outputs": [
    {
     "data": {
      "text/html": [
       "<div>\n",
       "<style scoped>\n",
       "    .dataframe tbody tr th:only-of-type {\n",
       "        vertical-align: middle;\n",
       "    }\n",
       "\n",
       "    .dataframe tbody tr th {\n",
       "        vertical-align: top;\n",
       "    }\n",
       "\n",
       "    .dataframe thead th {\n",
       "        text-align: right;\n",
       "    }\n",
       "</style>\n",
       "<table border=\"1\" class=\"dataframe\">\n",
       "  <thead>\n",
       "    <tr style=\"text-align: right;\">\n",
       "      <th></th>\n",
       "      <th>Foods</th>\n",
       "      <th>Price/Serving</th>\n",
       "      <th>Calories</th>\n",
       "      <th>Total_Fat(g)</th>\n",
       "      <th>Protein</th>\n",
       "      <th>Carbohydrates(g)</th>\n",
       "      <th>Dietary_Fiber(g)</th>\n",
       "    </tr>\n",
       "  </thead>\n",
       "  <tbody>\n",
       "    <tr>\n",
       "      <th>0</th>\n",
       "      <td>Forzen Broccoli</td>\n",
       "      <td>0.48</td>\n",
       "      <td>73.8</td>\n",
       "      <td>0.8</td>\n",
       "      <td>8.0</td>\n",
       "      <td>13.6</td>\n",
       "      <td>8.5</td>\n",
       "    </tr>\n",
       "    <tr>\n",
       "      <th>1</th>\n",
       "      <td>Forzen Corn</td>\n",
       "      <td>0.54</td>\n",
       "      <td>72.2</td>\n",
       "      <td>0.6</td>\n",
       "      <td>2.5</td>\n",
       "      <td>17.1</td>\n",
       "      <td>2.0</td>\n",
       "    </tr>\n",
       "    <tr>\n",
       "      <th>2</th>\n",
       "      <td>Raw Lattuce Iceberg</td>\n",
       "      <td>0.06</td>\n",
       "      <td>2.6</td>\n",
       "      <td>0.0</td>\n",
       "      <td>0.2</td>\n",
       "      <td>0.4</td>\n",
       "      <td>0.3</td>\n",
       "    </tr>\n",
       "    <tr>\n",
       "      <th>3</th>\n",
       "      <td>Baked Potatoes</td>\n",
       "      <td>0.18</td>\n",
       "      <td>171.5</td>\n",
       "      <td>0.2</td>\n",
       "      <td>3.7</td>\n",
       "      <td>39.9</td>\n",
       "      <td>3.2</td>\n",
       "    </tr>\n",
       "    <tr>\n",
       "      <th>4</th>\n",
       "      <td>Tofu</td>\n",
       "      <td>0.93</td>\n",
       "      <td>88.2</td>\n",
       "      <td>5.5</td>\n",
       "      <td>9.4</td>\n",
       "      <td>2.2</td>\n",
       "      <td>1.4</td>\n",
       "    </tr>\n",
       "  </tbody>\n",
       "</table>\n",
       "</div>"
      ],
      "text/plain": [
       "                 Foods  Price/Serving  Calories  Total_Fat(g)  Protein  \\\n",
       "0      Forzen Broccoli           0.48      73.8           0.8      8.0   \n",
       "1          Forzen Corn           0.54      72.2           0.6      2.5   \n",
       "2  Raw Lattuce Iceberg           0.06       2.6           0.0      0.2   \n",
       "3       Baked Potatoes           0.18     171.5           0.2      3.7   \n",
       "4                 Tofu           0.93      88.2           5.5      9.4   \n",
       "\n",
       "   Carbohydrates(g)  Dietary_Fiber(g)  \n",
       "0              13.6               8.5  \n",
       "1              17.1               2.0  \n",
       "2               0.4               0.3  \n",
       "3              39.9               3.2  \n",
       "4               2.2               1.4  "
      ]
     },
     "execution_count": 4,
     "metadata": {},
     "output_type": "execute_result"
    }
   ],
   "source": [
    "df.head(5)"
   ]
  },
  {
   "cell_type": "code",
   "execution_count": 5,
   "metadata": {},
   "outputs": [],
   "source": [
    "# Create a list of the food items\n",
    "food_items = list(df['Foods'])"
   ]
  },
  {
   "cell_type": "code",
   "execution_count": 6,
   "metadata": {},
   "outputs": [
    {
     "data": {
      "text/plain": [
       "['Forzen Broccoli',\n",
       " 'Forzen Corn',\n",
       " 'Raw Lattuce Iceberg',\n",
       " 'Baked Potatoes',\n",
       " 'Tofu']"
      ]
     },
     "execution_count": 6,
     "metadata": {},
     "output_type": "execute_result"
    }
   ],
   "source": [
    "food_items[:5]"
   ]
  },
  {
   "cell_type": "code",
   "execution_count": 7,
   "metadata": {},
   "outputs": [],
   "source": [
    "# Create a dictinary of costs for all food items\n",
    "costs = dict(zip(food_items,df['Price/Serving']))"
   ]
  },
  {
   "cell_type": "code",
   "execution_count": 8,
   "metadata": {},
   "outputs": [
    {
     "data": {
      "text/plain": [
       "{'Forzen Broccoli': 0.48,\n",
       " 'Forzen Corn': 0.54,\n",
       " 'Raw Lattuce Iceberg': 0.06,\n",
       " 'Baked Potatoes': 0.18,\n",
       " 'Tofu': 0.93,\n",
       " 'Roasted Chicken': 2.52,\n",
       " 'Spaghetti W/Sauce': 2.34,\n",
       " 'Raw Apple': 0.72,\n",
       " 'Banana': 0.45,\n",
       " 'Wheat Bread': 0.15,\n",
       " 'White Bread': 0.18,\n",
       " 'Oatmeal Cookies': 0.27,\n",
       " 'Apple Pie': 0.48,\n",
       " 'Scrambled Eggs': 0.33,\n",
       " 'Turkey Bologna': 0.45,\n",
       " 'Beef Frankfurter': 0.81,\n",
       " 'Chocolates Chip Cookies': 0.09}"
      ]
     },
     "execution_count": 8,
     "metadata": {},
     "output_type": "execute_result"
    }
   ],
   "source": [
    "costs"
   ]
  },
  {
   "cell_type": "code",
   "execution_count": 9,
   "metadata": {},
   "outputs": [],
   "source": [
    "# Create a dictionary of calories for all food items\n",
    "calories = dict(zip(food_items,df['Calories']))"
   ]
  },
  {
   "cell_type": "code",
   "execution_count": 10,
   "metadata": {},
   "outputs": [],
   "source": [
    "# Create a dictionary of total fat for all food items\n",
    "fat = dict(zip(food_items,df['Total_Fat(g)']))"
   ]
  },
  {
   "cell_type": "code",
   "execution_count": 11,
   "metadata": {},
   "outputs": [],
   "source": [
    "# Create a dictionary of preteins for all food items\n",
    "protein = dict(zip(food_items,df['Protein']))"
   ]
  },
  {
   "cell_type": "code",
   "execution_count": 12,
   "metadata": {},
   "outputs": [],
   "source": [
    "# Create a dictionary of carbohydrates for all food items\n",
    "carbs = dict(zip(food_items,df['Carbohydrates(g)']))"
   ]
  },
  {
   "cell_type": "code",
   "execution_count": 13,
   "metadata": {},
   "outputs": [],
   "source": [
    "# Create a dictionary of fibres for all food items\n",
    "fibers = dict(zip(food_items,df['Dietary_Fiber(g)']))"
   ]
  },
  {
   "cell_type": "markdown",
   "metadata": {},
   "source": [
    "### Formulating the problem"
   ]
  },
  {
   "cell_type": "code",
   "execution_count": 14,
   "metadata": {},
   "outputs": [
    {
     "name": "stderr",
     "output_type": "stream",
     "text": [
      "C:\\Users\\User\\anaconda3\\lib\\site-packages\\pulp\\pulp.py:1198: UserWarning: Spaces are not permitted in the name. Converted to '_'\n",
      "  warnings.warn(\"Spaces are not permitted in the name. Converted to '_'\")\n"
     ]
    }
   ],
   "source": [
    "# First, we create a LP problem with the method LpProblemin PuLP.\n",
    "prob = LpProblem(\"Simple Diet Problem\", LpMinimize)"
   ]
  },
  {
   "cell_type": "code",
   "execution_count": 15,
   "metadata": {},
   "outputs": [
    {
     "data": {
      "text/plain": [
       "Simple_Diet_Problem:\n",
       "MINIMIZE\n",
       "None\n",
       "VARIABLES"
      ]
     },
     "execution_count": 15,
     "metadata": {},
     "output_type": "execute_result"
    }
   ],
   "source": [
    "prob"
   ]
  },
  {
   "cell_type": "code",
   "execution_count": 16,
   "metadata": {},
   "outputs": [],
   "source": [
    "'''\n",
    "Then, we create a dictionary of food items variables with lower bound =0 and category continuous \n",
    "i.e. the optimization solution can take any real-numbered value greater than zero.\n",
    "\n",
    "The particular importance of the lower bound is that in practice food quantities cannot be negative\n",
    "'''\n",
    "\n",
    "food_vars = LpVariable.dicts(\"Food\", food_items, lowBound=0, cat='Continuous')"
   ]
  },
  {
   "cell_type": "code",
   "execution_count": 17,
   "metadata": {},
   "outputs": [
    {
     "data": {
      "text/plain": [
       "{'Forzen Broccoli': Food_Forzen_Broccoli,\n",
       " 'Forzen Corn': Food_Forzen_Corn,\n",
       " 'Raw Lattuce Iceberg': Food_Raw_Lattuce_Iceberg,\n",
       " 'Baked Potatoes': Food_Baked_Potatoes,\n",
       " 'Tofu': Food_Tofu,\n",
       " 'Roasted Chicken': Food_Roasted_Chicken,\n",
       " 'Spaghetti W/Sauce': Food_Spaghetti_W_Sauce,\n",
       " 'Raw Apple': Food_Raw_Apple,\n",
       " 'Banana': Food_Banana,\n",
       " 'Wheat Bread': Food_Wheat_Bread,\n",
       " 'White Bread': Food_White_Bread,\n",
       " 'Oatmeal Cookies': Food_Oatmeal_Cookies,\n",
       " 'Apple Pie': Food_Apple_Pie,\n",
       " 'Scrambled Eggs': Food_Scrambled_Eggs,\n",
       " 'Turkey Bologna': Food_Turkey_Bologna,\n",
       " 'Beef Frankfurter': Food_Beef_Frankfurter,\n",
       " 'Chocolates Chip Cookies': Food_Chocolates_Chip_Cookies}"
      ]
     },
     "execution_count": 17,
     "metadata": {},
     "output_type": "execute_result"
    }
   ],
   "source": [
    "food_vars"
   ]
  },
  {
   "cell_type": "code",
   "execution_count": 18,
   "metadata": {},
   "outputs": [],
   "source": [
    "# Next, we start building the LP problem by adding the main objective function. Note the use of the lpSum method.\n",
    "prob += lpSum([costs[i]*food_vars[i] for i in food_items])"
   ]
  },
  {
   "cell_type": "code",
   "execution_count": 19,
   "metadata": {},
   "outputs": [
    {
     "data": {
      "text/plain": [
       "Simple_Diet_Problem:\n",
       "MINIMIZE\n",
       "0.48*Food_Apple_Pie + 0.18*Food_Baked_Potatoes + 0.45*Food_Banana + 0.81*Food_Beef_Frankfurter + 0.09*Food_Chocolates_Chip_Cookies + 0.48*Food_Forzen_Broccoli + 0.54*Food_Forzen_Corn + 0.27*Food_Oatmeal_Cookies + 0.72*Food_Raw_Apple + 0.06*Food_Raw_Lattuce_Iceberg + 2.52*Food_Roasted_Chicken + 0.33*Food_Scrambled_Eggs + 2.34*Food_Spaghetti_W_Sauce + 0.93*Food_Tofu + 0.45*Food_Turkey_Bologna + 0.15*Food_Wheat_Bread + 0.18*Food_White_Bread + 0.0\n",
       "VARIABLES\n",
       "Food_Apple_Pie Continuous\n",
       "Food_Baked_Potatoes Continuous\n",
       "Food_Banana Continuous\n",
       "Food_Beef_Frankfurter Continuous\n",
       "Food_Chocolates_Chip_Cookies Continuous\n",
       "Food_Forzen_Broccoli Continuous\n",
       "Food_Forzen_Corn Continuous\n",
       "Food_Oatmeal_Cookies Continuous\n",
       "Food_Raw_Apple Continuous\n",
       "Food_Raw_Lattuce_Iceberg Continuous\n",
       "Food_Roasted_Chicken Continuous\n",
       "Food_Scrambled_Eggs Continuous\n",
       "Food_Spaghetti_W_Sauce Continuous\n",
       "Food_Tofu Continuous\n",
       "Food_Turkey_Bologna Continuous\n",
       "Food_Wheat_Bread Continuous\n",
       "Food_White_Bread Continuous"
      ]
     },
     "execution_count": 19,
     "metadata": {},
     "output_type": "execute_result"
    }
   ],
   "source": [
    "prob"
   ]
  },
  {
   "cell_type": "code",
   "execution_count": 20,
   "metadata": {},
   "outputs": [],
   "source": [
    "# We further build on this by adding calories constraints\n",
    "prob += lpSum([calories[f] * food_vars[f] for f in food_items]) >= 800.0\n",
    "prob += lpSum([calories[f] * food_vars[f] for f in food_items]) <= 1300.0"
   ]
  },
  {
   "cell_type": "code",
   "execution_count": 21,
   "metadata": {},
   "outputs": [
    {
     "data": {
      "text/plain": [
       "Simple_Diet_Problem:\n",
       "MINIMIZE\n",
       "0.48*Food_Apple_Pie + 0.18*Food_Baked_Potatoes + 0.45*Food_Banana + 0.81*Food_Beef_Frankfurter + 0.09*Food_Chocolates_Chip_Cookies + 0.48*Food_Forzen_Broccoli + 0.54*Food_Forzen_Corn + 0.27*Food_Oatmeal_Cookies + 0.72*Food_Raw_Apple + 0.06*Food_Raw_Lattuce_Iceberg + 2.52*Food_Roasted_Chicken + 0.33*Food_Scrambled_Eggs + 2.34*Food_Spaghetti_W_Sauce + 0.93*Food_Tofu + 0.45*Food_Turkey_Bologna + 0.15*Food_Wheat_Bread + 0.18*Food_White_Bread + 0.0\n",
       "SUBJECT TO\n",
       "_C1: 67.2 Food_Apple_Pie + 171.5 Food_Baked_Potatoes + 104.9 Food_Banana\n",
       " + 141.8 Food_Beef_Frankfurter + 78.1 Food_Chocolates_Chip_Cookies\n",
       " + 73.8 Food_Forzen_Broccoli + 72.2 Food_Forzen_Corn + 81 Food_Oatmeal_Cookies\n",
       " + 81.4 Food_Raw_Apple + 2.6 Food_Raw_Lattuce_Iceberg\n",
       " + 277.4 Food_Roasted_Chicken + 99.6 Food_Scrambled_Eggs\n",
       " + 358.2 Food_Spaghetti_W_Sauce + 88.2 Food_Tofu + 56.4 Food_Turkey_Bologna\n",
       " + 65 Food_Wheat_Bread + 65 Food_White_Bread >= 800\n",
       "\n",
       "_C2: 67.2 Food_Apple_Pie + 171.5 Food_Baked_Potatoes + 104.9 Food_Banana\n",
       " + 141.8 Food_Beef_Frankfurter + 78.1 Food_Chocolates_Chip_Cookies\n",
       " + 73.8 Food_Forzen_Broccoli + 72.2 Food_Forzen_Corn + 81 Food_Oatmeal_Cookies\n",
       " + 81.4 Food_Raw_Apple + 2.6 Food_Raw_Lattuce_Iceberg\n",
       " + 277.4 Food_Roasted_Chicken + 99.6 Food_Scrambled_Eggs\n",
       " + 358.2 Food_Spaghetti_W_Sauce + 88.2 Food_Tofu + 56.4 Food_Turkey_Bologna\n",
       " + 65 Food_Wheat_Bread + 65 Food_White_Bread <= 1300\n",
       "\n",
       "VARIABLES\n",
       "Food_Apple_Pie Continuous\n",
       "Food_Baked_Potatoes Continuous\n",
       "Food_Banana Continuous\n",
       "Food_Beef_Frankfurter Continuous\n",
       "Food_Chocolates_Chip_Cookies Continuous\n",
       "Food_Forzen_Broccoli Continuous\n",
       "Food_Forzen_Corn Continuous\n",
       "Food_Oatmeal_Cookies Continuous\n",
       "Food_Raw_Apple Continuous\n",
       "Food_Raw_Lattuce_Iceberg Continuous\n",
       "Food_Roasted_Chicken Continuous\n",
       "Food_Scrambled_Eggs Continuous\n",
       "Food_Spaghetti_W_Sauce Continuous\n",
       "Food_Tofu Continuous\n",
       "Food_Turkey_Bologna Continuous\n",
       "Food_Wheat_Bread Continuous\n",
       "Food_White_Bread Continuous"
      ]
     },
     "execution_count": 21,
     "metadata": {},
     "output_type": "execute_result"
    }
   ],
   "source": [
    "prob"
   ]
  },
  {
   "cell_type": "code",
   "execution_count": 22,
   "metadata": {},
   "outputs": [],
   "source": [
    "# We can pile up all the nutrition constraints.\n",
    "\n",
    "# Fat\n",
    "prob += lpSum([fat[f] * food_vars[f] for f in food_items]) >= 20.0, \"FatMinimum\"\n",
    "prob += lpSum([fat[f] * food_vars[f] for f in food_items]) <= 50.0, \"FatMaximum\""
   ]
  },
  {
   "cell_type": "code",
   "execution_count": 23,
   "metadata": {},
   "outputs": [],
   "source": [
    "# Carbs\n",
    "prob += lpSum([carbs[f] * food_vars[f] for f in food_items]) >= 130.0, \"CarbsMinimum\"\n",
    "prob += lpSum([carbs[f] * food_vars[f] for f in food_items]) <= 200.0, \"CarbsMaximum\""
   ]
  },
  {
   "cell_type": "code",
   "execution_count": 24,
   "metadata": {},
   "outputs": [],
   "source": [
    "# Fiber\n",
    "prob += lpSum([fibers[f] * food_vars[f] for f in food_items]) >= 60.0, \"FiberMinimum\"\n",
    "prob += lpSum([fibers[f] * food_vars[f] for f in food_items]) <= 125.0, \"FiberMaximum\""
   ]
  },
  {
   "cell_type": "code",
   "execution_count": 25,
   "metadata": {},
   "outputs": [],
   "source": [
    "# Protein\n",
    "prob += lpSum([protein[f] * food_vars[f] for f in food_items]) >= 100.0, \"ProteinMinimum\"\n",
    "prob += lpSum([protein[f] * food_vars[f] for f in food_items]) <= 150.0, \"ProteinMaximum\""
   ]
  },
  {
   "cell_type": "markdown",
   "metadata": {},
   "source": [
    "At this point, formulating the problem is done.\n",
    "\n",
    "##### In any optimization scenario, the hard part is the formulation of the problem in a structured manner which is presentable to a solver."
   ]
  },
  {
   "cell_type": "markdown",
   "metadata": {},
   "source": [
    "### Solving the problem"
   ]
  },
  {
   "cell_type": "code",
   "execution_count": 26,
   "metadata": {},
   "outputs": [
    {
     "data": {
      "text/plain": [
       "1"
      ]
     },
     "execution_count": 26,
     "metadata": {},
     "output_type": "execute_result"
    }
   ],
   "source": [
    "'''\n",
    "PuLP has quite a few choices of solver algorithms (e.g. COIN_MP, Gurobi, CPLEX, etc.). \n",
    "For this problem, we do not specify any choice and let the program default to its own choice \n",
    "depending on the problem structure.\n",
    "'''\n",
    "\n",
    "prob.solve() # "
   ]
  },
  {
   "cell_type": "code",
   "execution_count": 27,
   "metadata": {},
   "outputs": [
    {
     "name": "stdout",
     "output_type": "stream",
     "text": [
      "Status: Optimal\n"
     ]
    }
   ],
   "source": [
    "# The status of the solution is printed to the screen\n",
    "print(\"Status:\", LpStatus[prob.status])"
   ]
  },
  {
   "cell_type": "code",
   "execution_count": 28,
   "metadata": {},
   "outputs": [
    {
     "name": "stdout",
     "output_type": "stream",
     "text": [
      "Food_Baked_Potatoes = 1.0806324\n",
      "Food_Forzen_Broccoli = 6.9242113\n",
      "Food_Scrambled_Eggs = 6.060891\n"
     ]
    }
   ],
   "source": [
    "'''\n",
    "The full solution contains all the variables including the ones with zero weights. \n",
    "But to us, only those variables are interesting which have non-zero coefficients \n",
    "i.e. which should be included in the optimal diet plan. \n",
    "So, we can scan through the problem variables and print out only if the variable quantity is positive.\n",
    "'''\n",
    "\n",
    "for v in prob.variables():\n",
    "    if v.varValue>0:\n",
    "        print(v.name, \"=\", v.varValue)"
   ]
  },
  {
   "cell_type": "markdown",
   "metadata": {},
   "source": [
    "So, the optimal solution is to eat 6.924 servings of frozen broccoli, 6.06 servings of scrambled eggs and 1.08 servings of a baked potato!"
   ]
  },
  {
   "cell_type": "markdown",
   "metadata": {},
   "source": [
    "Reference https://towardsdatascience.com/linear-programming-and-discrete-optimization-with-python-using-pulp-449f3c5f6e99"
   ]
  }
 ],
 "metadata": {
  "kernelspec": {
   "display_name": "Python 3",
   "language": "python",
   "name": "python3"
  },
  "language_info": {
   "codemirror_mode": {
    "name": "ipython",
    "version": 3
   },
   "file_extension": ".py",
   "mimetype": "text/x-python",
   "name": "python",
   "nbconvert_exporter": "python",
   "pygments_lexer": "ipython3",
   "version": "3.7.6"
  }
 },
 "nbformat": 4,
 "nbformat_minor": 4
}
