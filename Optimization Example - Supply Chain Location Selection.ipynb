{
 "cells": [
  {
   "cell_type": "markdown",
   "metadata": {},
   "source": [
    "### Problem\n",
    "\n",
    "Assume that you need to optimize a manufacturing company’s supply chain network \n",
    "\n",
    "across 5 selling locations \n",
    "\n",
    "to meet with demand by location at the lowest cost. \n",
    "\n",
    "You can decide the plant size in each location where the options are low capacity and high capacity. \n",
    "\n",
    "One possibility is to set up a facility in each region with an advantage of low transportation costs and a disadvantage of having production plans sized to meet local demands and not exploiting the economies of scale. \n",
    "\n",
    "Another possibility is to set up a few manufacturing plants with an advantage of economies of scale but requiring higher transportation costs. \n",
    "\n",
    "\n",
    "Given, you have the estimated demand for each location, \n",
    "\n",
    "variable costs of transportation from one plant to another, \n",
    "\n",
    "fixed costs of having a plant is based on its size \n",
    "\n",
    "and the production capacity is based on plant size where 500 for low capacity and 1500 for high capacity. \n",
    "\n",
    "How would you solve this problem with the minimum cost?\n",
    "\n",
    "\n",
    "        Demand\tA\tB\tC\tD\tE\tHich_C\tLow_C\n",
    "        \n",
    "    A\t145.40\t08\t14\t21\t21\t12\t4730\t3230\n",
    "\n",
    "    B\t84.100\t14\t6\t13\t14\t13\t7270\t4980\n",
    "\n",
    "    C\t156.40\t23\t13\t08\t10\t22\t3080\t2110\n",
    "\n",
    "    D\t1676.8\t21\t14\t09\t03\t20\t9100\t6230\n",
    "\n",
    "    E\t2719.6\t12\t13\t17\t20\t06\t9500\t6500\n",
    "    \n",
    "\n",
    "Demand column shows the estimated demand for each location\n",
    "\n",
    "Columns A to E shows the transportation cost from locations in the index to each of the locations in columns (e.g. transportation cost from plant B to plant D is 14)\n",
    "\n",
    "‘High_C’ and ‘Low_C’ columns show the fixed cost of having high and low capacity plants in each location (i.e. having a low capacity plant at location E has AUD 6500 fixed cost)"
   ]
  },
  {
   "cell_type": "markdown",
   "metadata": {},
   "source": [
    "### Solution\n",
    "\n",
    "To solve this problem, we first need to initialize our model and decision variables. There are two decision variables;\n",
    "   1. Production quantity that is produced in location i and shipped to location j (continuous variable)\n",
    "   2. Capacity of the production plant i (binary variable: 1 if the plant at location i of capacity s is open, 0 if closed)\n",
    "   \n",
    "   "
   ]
  },
  {
   "cell_type": "markdown",
   "metadata": {},
   "source": [
    "### Implementation"
   ]
  },
  {
   "cell_type": "code",
   "execution_count": 7,
   "metadata": {},
   "outputs": [
    {
     "name": "stderr",
     "output_type": "stream",
     "text": [
      "C:\\Users\\User\\anaconda3\\lib\\site-packages\\numpy\\_distributor_init.py:32: UserWarning: loaded more than 1 DLL from .libs:\n",
      "C:\\Users\\User\\anaconda3\\lib\\site-packages\\numpy\\.libs\\libopenblas.NOIJJG62EMASZI6NYURL6JBKM4EVBGM7.gfortran-win_amd64.dll\n",
      "C:\\Users\\User\\anaconda3\\lib\\site-packages\\numpy\\.libs\\libopenblas.PYQHXLVVQ7VESDPUVUADXEVJOBGHJPAY.gfortran-win_amd64.dll\n",
      "  stacklevel=1)\n"
     ]
    }
   ],
   "source": [
    "# import required libraries\n",
    "import pulp\n",
    "from pulp import *\n",
    "import pandas as pd"
   ]
  },
  {
   "cell_type": "code",
   "execution_count": 25,
   "metadata": {},
   "outputs": [
    {
     "data": {
      "text/html": [
       "<div>\n",
       "<style scoped>\n",
       "    .dataframe tbody tr th:only-of-type {\n",
       "        vertical-align: middle;\n",
       "    }\n",
       "\n",
       "    .dataframe tbody tr th {\n",
       "        vertical-align: top;\n",
       "    }\n",
       "\n",
       "    .dataframe thead th {\n",
       "        text-align: right;\n",
       "    }\n",
       "</style>\n",
       "<table border=\"1\" class=\"dataframe\">\n",
       "  <thead>\n",
       "    <tr style=\"text-align: right;\">\n",
       "      <th></th>\n",
       "      <th>Loc</th>\n",
       "      <th>Demand</th>\n",
       "      <th>A</th>\n",
       "      <th>B</th>\n",
       "      <th>C</th>\n",
       "      <th>D</th>\n",
       "      <th>E</th>\n",
       "      <th>High_C</th>\n",
       "      <th>Low_C</th>\n",
       "    </tr>\n",
       "  </thead>\n",
       "  <tbody>\n",
       "    <tr>\n",
       "      <th>0</th>\n",
       "      <td>A</td>\n",
       "      <td>145.4</td>\n",
       "      <td>8</td>\n",
       "      <td>14</td>\n",
       "      <td>21</td>\n",
       "      <td>21</td>\n",
       "      <td>12</td>\n",
       "      <td>4730</td>\n",
       "      <td>3230</td>\n",
       "    </tr>\n",
       "    <tr>\n",
       "      <th>1</th>\n",
       "      <td>B</td>\n",
       "      <td>84.1</td>\n",
       "      <td>14</td>\n",
       "      <td>6</td>\n",
       "      <td>13</td>\n",
       "      <td>14</td>\n",
       "      <td>13</td>\n",
       "      <td>7270</td>\n",
       "      <td>4980</td>\n",
       "    </tr>\n",
       "    <tr>\n",
       "      <th>2</th>\n",
       "      <td>C</td>\n",
       "      <td>156.4</td>\n",
       "      <td>23</td>\n",
       "      <td>13</td>\n",
       "      <td>8</td>\n",
       "      <td>10</td>\n",
       "      <td>22</td>\n",
       "      <td>3080</td>\n",
       "      <td>2110</td>\n",
       "    </tr>\n",
       "    <tr>\n",
       "      <th>3</th>\n",
       "      <td>D</td>\n",
       "      <td>1676.8</td>\n",
       "      <td>21</td>\n",
       "      <td>14</td>\n",
       "      <td>9</td>\n",
       "      <td>3</td>\n",
       "      <td>20</td>\n",
       "      <td>9100</td>\n",
       "      <td>6230</td>\n",
       "    </tr>\n",
       "    <tr>\n",
       "      <th>4</th>\n",
       "      <td>E</td>\n",
       "      <td>2719.6</td>\n",
       "      <td>12</td>\n",
       "      <td>13</td>\n",
       "      <td>17</td>\n",
       "      <td>20</td>\n",
       "      <td>6</td>\n",
       "      <td>9500</td>\n",
       "      <td>6500</td>\n",
       "    </tr>\n",
       "  </tbody>\n",
       "</table>\n",
       "</div>"
      ],
      "text/plain": [
       "  Loc  Demand   A   B   C   D   E  High_C  Low_C\n",
       "0   A   145.4   8  14  21  21  12    4730   3230\n",
       "1   B    84.1  14   6  13  14  13    7270   4980\n",
       "2   C   156.4  23  13   8  10  22    3080   2110\n",
       "3   D  1676.8  21  14   9   3  20    9100   6230\n",
       "4   E  2719.6  12  13  17  20   6    9500   6500"
      ]
     },
     "execution_count": 25,
     "metadata": {},
     "output_type": "execute_result"
    }
   ],
   "source": [
    "# read fix cost and variable cost from the file\n",
    "df = pd.read_csv('Production.txt', sep = '\\t')\n",
    "df"
   ]
  },
  {
   "cell_type": "code",
   "execution_count": 2,
   "metadata": {},
   "outputs": [
    {
     "name": "stderr",
     "output_type": "stream",
     "text": [
      "C:\\Users\\User\\anaconda3\\lib\\site-packages\\pulp\\pulp.py:1198: UserWarning: Spaces are not permitted in the name. Converted to '_'\n",
      "  warnings.warn(\"Spaces are not permitted in the name. Converted to '_'\")\n"
     ]
    }
   ],
   "source": [
    "# 1. Initialize model\n",
    "'''\n",
    "Inside LpProblem() method we define the problem name and sense of objective function \n",
    "that can either be ‘LpMaximize’ or ‘LpMinimize’. \n",
    "In this example we want to minimize number production cost, so LpMinimize.\n",
    "'''\n",
    "\n",
    "model = LpProblem('Location Selection', LpMinimize)"
   ]
  },
  {
   "cell_type": "code",
   "execution_count": 5,
   "metadata": {},
   "outputs": [],
   "source": [
    "# 2. Define Decision Variables\n",
    "'''\n",
    "Inside LpVariable() method we define a name for the variable, values for lower and upper bound, \n",
    "and category type which can be ‘Integer’, ‘Binary’, or ‘Continuous’. \n",
    "Since we want an integer value for the number of workers, we choose integer.\n",
    "'''\n",
    "\n",
    "#decision variable list\n",
    "loc = ['A', 'B', 'C', 'D', 'E']\n",
    "size = ['Low_C','High_C']\n",
    "\n",
    "# Production quantity that is produced in location i and shipped to location j (continuous variable)\n",
    "x = LpVariable.dicts('production_', [(i,j) for i in loc for j in loc], lowBound=0, upBound=None, cat='Continuous')\n",
    "#Capacity s of the production plant i (binary variable: 1 if the plant at location i of capacity s is open, 0 if closed)\n",
    "y = LpVariable.dicts('plant_', [(i,s) for s in size for i in loc], lowBound=None, upBound=None, cat='Binary')"
   ]
  },
  {
   "cell_type": "code",
   "execution_count": 21,
   "metadata": {},
   "outputs": [],
   "source": [
    "# 3. Define the Objective Function\n",
    "'''\n",
    "Add the objective function to the initialized model using+=\n",
    "As we have a dictiony of dicision variables, we can use lpSum to take the sum. \n",
    "'''\n",
    "\n",
    "# extract fix cost and variable cost\n",
    "fix_cost = df[size]\n",
    "fix_cost.index = loc\n",
    "var_cost = df[loc]\n",
    "var_cost.index = loc\n",
    "\n",
    "model += (lpSum([fix_cost.loc[i,s] * y[(i,s)] for s in size for i in loc]) + \n",
    "          lpSum([var_cost.loc[i,j] * x[(i,j)] for i in loc for j in loc]))"
   ]
  },
  {
   "cell_type": "code",
   "execution_count": 30,
   "metadata": {},
   "outputs": [
    {
     "data": {
      "text/html": [
       "<div>\n",
       "<style scoped>\n",
       "    .dataframe tbody tr th:only-of-type {\n",
       "        vertical-align: middle;\n",
       "    }\n",
       "\n",
       "    .dataframe tbody tr th {\n",
       "        vertical-align: top;\n",
       "    }\n",
       "\n",
       "    .dataframe thead th {\n",
       "        text-align: right;\n",
       "    }\n",
       "</style>\n",
       "<table border=\"1\" class=\"dataframe\">\n",
       "  <thead>\n",
       "    <tr style=\"text-align: right;\">\n",
       "      <th></th>\n",
       "      <th>A</th>\n",
       "      <th>B</th>\n",
       "      <th>C</th>\n",
       "      <th>D</th>\n",
       "      <th>E</th>\n",
       "    </tr>\n",
       "  </thead>\n",
       "  <tbody>\n",
       "    <tr>\n",
       "      <th>A</th>\n",
       "      <td>8</td>\n",
       "      <td>14</td>\n",
       "      <td>21</td>\n",
       "      <td>21</td>\n",
       "      <td>12</td>\n",
       "    </tr>\n",
       "    <tr>\n",
       "      <th>B</th>\n",
       "      <td>14</td>\n",
       "      <td>6</td>\n",
       "      <td>13</td>\n",
       "      <td>14</td>\n",
       "      <td>13</td>\n",
       "    </tr>\n",
       "    <tr>\n",
       "      <th>C</th>\n",
       "      <td>23</td>\n",
       "      <td>13</td>\n",
       "      <td>8</td>\n",
       "      <td>10</td>\n",
       "      <td>22</td>\n",
       "    </tr>\n",
       "    <tr>\n",
       "      <th>D</th>\n",
       "      <td>21</td>\n",
       "      <td>14</td>\n",
       "      <td>9</td>\n",
       "      <td>3</td>\n",
       "      <td>20</td>\n",
       "    </tr>\n",
       "    <tr>\n",
       "      <th>E</th>\n",
       "      <td>12</td>\n",
       "      <td>13</td>\n",
       "      <td>17</td>\n",
       "      <td>20</td>\n",
       "      <td>6</td>\n",
       "    </tr>\n",
       "  </tbody>\n",
       "</table>\n",
       "</div>"
      ],
      "text/plain": [
       "    A   B   C   D   E\n",
       "A   8  14  21  21  12\n",
       "B  14   6  13  14  13\n",
       "C  23  13   8  10  22\n",
       "D  21  14   9   3  20\n",
       "E  12  13  17  20   6"
      ]
     },
     "execution_count": 30,
     "metadata": {},
     "output_type": "execute_result"
    }
   ],
   "source": [
    "var_cost"
   ]
  },
  {
   "cell_type": "code",
   "execution_count": 33,
   "metadata": {},
   "outputs": [],
   "source": [
    "# 4. Define the Constraints\n",
    "'''\n",
    "Constraints are:\n",
    "1. Total production needs to be equal to total demand\n",
    "2. Total production can be smaller or equal to total production capacity\n",
    "'''\n",
    "\n",
    "# extract demand \n",
    "demand = df[['Demand']]\n",
    "demand.index = loc\n",
    "\n",
    "# creat capacity from the problem statement\n",
    "capacity = pd.DataFrame({size[0]:[500 for i in loc], size[1]:[1500 for i in loc]})\n",
    "capacity.index = loc\n",
    "\n",
    "# Total production needs to be equal to total demand\n",
    "for j in loc:\n",
    "    model += lpSum([x[(i, j)] for i in loc]) == demand.loc[j,'Demand'] \n",
    "    \n",
    "# Total production can be smaller or equal to total production capacity\n",
    "for i in loc:\n",
    "    model += lpSum([x[i, j] for j in loc]) <= lpSum([capacity.loc[i,s] * y[i,s] for s in size])"
   ]
  },
  {
   "cell_type": "code",
   "execution_count": 34,
   "metadata": {},
   "outputs": [
    {
     "data": {
      "text/plain": [
       "1"
      ]
     },
     "execution_count": 34,
     "metadata": {},
     "output_type": "execute_result"
    }
   ],
   "source": [
    "# 5. Solve Model\n",
    "# the method returns 1 if the model is solvable\n",
    "model.solve()"
   ]
  },
  {
   "cell_type": "code",
   "execution_count": 35,
   "metadata": {},
   "outputs": [
    {
     "name": "stdout",
     "output_type": "stream",
     "text": [
      "Status: Optimal\n"
     ]
    }
   ],
   "source": [
    "# Print model status\n",
    "print('Status:', LpStatus[model.status])"
   ]
  },
  {
   "cell_type": "code",
   "execution_count": 36,
   "metadata": {},
   "outputs": [
    {
     "name": "stdout",
     "output_type": "stream",
     "text": [
      "plant__('A',_'High_C') = 1.0\n",
      "plant__('A',_'Low_C') = 0.0\n",
      "plant__('B',_'High_C') = 0.0\n",
      "plant__('B',_'Low_C') = 0.0\n",
      "plant__('C',_'High_C') = 0.0\n",
      "plant__('C',_'Low_C') = 1.0\n",
      "plant__('D',_'High_C') = 1.0\n",
      "plant__('D',_'Low_C') = 0.0\n",
      "plant__('E',_'High_C') = 1.0\n",
      "plant__('E',_'Low_C') = 0.0\n",
      "production__('A',_'A') = 145.4\n",
      "production__('A',_'B') = 0.0\n",
      "production__('A',_'C') = 0.0\n",
      "production__('A',_'D') = 0.0\n",
      "production__('A',_'E') = 1219.6\n",
      "production__('B',_'A') = 0.0\n",
      "production__('B',_'B') = 0.0\n",
      "production__('B',_'C') = 0.0\n",
      "production__('B',_'D') = 0.0\n",
      "production__('B',_'E') = 0.0\n",
      "production__('C',_'A') = 0.0\n",
      "production__('C',_'B') = 84.1\n",
      "production__('C',_'C') = 156.4\n",
      "production__('C',_'D') = 176.8\n",
      "production__('C',_'E') = 0.0\n",
      "production__('D',_'A') = 0.0\n",
      "production__('D',_'B') = 0.0\n",
      "production__('D',_'C') = 0.0\n",
      "production__('D',_'D') = 1500.0\n",
      "production__('D',_'E') = 0.0\n",
      "production__('E',_'A') = 0.0\n",
      "production__('E',_'B') = 0.0\n",
      "production__('E',_'C') = 0.0\n",
      "production__('E',_'D') = 0.0\n",
      "production__('E',_'E') = 1500.0\n"
     ]
    }
   ],
   "source": [
    "#Print solution of optimized decision variables\n",
    "for variable in model.variables():\n",
    "    print ('{} = {}'.format(variable.name, variable.varValue))"
   ]
  },
  {
   "cell_type": "code",
   "execution_count": 39,
   "metadata": {},
   "outputs": [
    {
     "data": {
      "text/plain": [
       "[{'prod': 'A to A', 'quantity': 145.4},\n",
       " {'prod': 'A to B', 'quantity': 0.0},\n",
       " {'prod': 'A to C', 'quantity': 0.0},\n",
       " {'prod': 'A to D', 'quantity': 0.0},\n",
       " {'prod': 'A to E', 'quantity': 1219.6},\n",
       " {'prod': 'B to A', 'quantity': 0.0},\n",
       " {'prod': 'B to B', 'quantity': 0.0},\n",
       " {'prod': 'B to C', 'quantity': 0.0},\n",
       " {'prod': 'B to D', 'quantity': 0.0},\n",
       " {'prod': 'B to E', 'quantity': 0.0},\n",
       " {'prod': 'C to A', 'quantity': 0.0},\n",
       " {'prod': 'C to B', 'quantity': 84.1},\n",
       " {'prod': 'C to C', 'quantity': 156.4},\n",
       " {'prod': 'C to D', 'quantity': 176.8},\n",
       " {'prod': 'C to E', 'quantity': 0.0},\n",
       " {'prod': 'D to A', 'quantity': 0.0},\n",
       " {'prod': 'D to B', 'quantity': 0.0},\n",
       " {'prod': 'D to C', 'quantity': 0.0},\n",
       " {'prod': 'D to D', 'quantity': 1500.0},\n",
       " {'prod': 'D to E', 'quantity': 0.0},\n",
       " {'prod': 'E to A', 'quantity': 0.0},\n",
       " {'prod': 'E to B', 'quantity': 0.0},\n",
       " {'prod': 'E to C', 'quantity': 0.0},\n",
       " {'prod': 'E to D', 'quantity': 0.0},\n",
       " {'prod': 'E to E', 'quantity': 1500.0}]"
      ]
     },
     "execution_count": 39,
     "metadata": {},
     "output_type": "execute_result"
    }
   ],
   "source": [
    "# Results for production quantities\n",
    "[{'prod':'{} to {}'.format(i,j), 'quantity':x[(i,j)].varValue} \n",
    "     for i in loc for j in loc]"
   ]
  },
  {
   "cell_type": "code",
   "execution_count": 40,
   "metadata": {},
   "outputs": [
    {
     "data": {
      "text/plain": [
       "[{'lowCap': 0.0, 'highCap': 1.0},\n",
       " {'lowCap': 0.0, 'highCap': 0.0},\n",
       " {'lowCap': 1.0, 'highCap': 0.0},\n",
       " {'lowCap': 0.0, 'highCap': 1.0},\n",
       " {'lowCap': 0.0, 'highCap': 1.0}]"
      ]
     },
     "execution_count": 40,
     "metadata": {},
     "output_type": "execute_result"
    }
   ],
   "source": [
    "# Results for plant capacities based on location\n",
    "[{'lowCap':y[(i,size[0])].varValue, 'highCap':y[(i,size[1])].varValue}\n",
    "     for i in loc]"
   ]
  },
  {
   "cell_type": "code",
   "execution_count": 41,
   "metadata": {},
   "outputs": [
    {
     "name": "stdout",
     "output_type": "stream",
     "text": [
      "Objective =  58850.9\n"
     ]
    }
   ],
   "source": [
    "# Print optimized objective function value(model.objective)\n",
    "\n",
    "print('Objective = ', value(model.objective))"
   ]
  },
  {
   "cell_type": "markdown",
   "metadata": {},
   "source": [
    "As can be seen from results, the model suggests to open a low capacity plant in location C, and high capacity plants in locations A, D, and E. The demand at location B is suggested to be provided by the location C. Doing so, we can achieve the minimum cost of $58850.9."
   ]
  },
  {
   "cell_type": "code",
   "execution_count": 38,
   "metadata": {},
   "outputs": [],
   "source": [
    "# P.N. Some implementation details are missing in the reference\n",
    "# Reference: https://towardsdatascience.com/how-to-develop-optimization-models-in-python-1a03ef72f5b4"
   ]
  }
 ],
 "metadata": {
  "kernelspec": {
   "display_name": "Python 3",
   "language": "python",
   "name": "python3"
  },
  "language_info": {
   "codemirror_mode": {
    "name": "ipython",
    "version": 3
   },
   "file_extension": ".py",
   "mimetype": "text/x-python",
   "name": "python",
   "nbconvert_exporter": "python",
   "pygments_lexer": "ipython3",
   "version": "3.7.6"
  }
 },
 "nbformat": 4,
 "nbformat_minor": 4
}
