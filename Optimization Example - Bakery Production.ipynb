{
 "cells": [
  {
   "cell_type": "markdown",
   "metadata": {},
   "source": [
    "### Problem\n",
    "\n",
    "A bakery makes cakes and pies every day of a month, i.e. 30 days. \n",
    "\n",
    "There is: 1 oven, 2 bakers, 1 packaging packer that works only 22 days of the month. \n",
    "\n",
    "The cake requires to use the oven for 1 day and the pie requires 0.5 day. \n",
    "\n",
    "Each baker needs to work for cake 0.5 days and pie 2 days. \n",
    "\n",
    "Packer needs to work for cake 1 day and pie 0.5 days. \n",
    "\n",
    "The profit on each cake is AUD 15 and the profit on each pie is AUD 12. [Objective Function]\n",
    "\n",
    "How many should be made to maximize the profit under given conditions? [Objective]"
   ]
  },
  {
   "cell_type": "markdown",
   "metadata": {},
   "source": [
    "### Solution\n",
    "\n",
    "To solve this problem, we will use PuLP. In the implementation, we will follow the common modeling process."
   ]
  },
  {
   "cell_type": "markdown",
   "metadata": {},
   "source": [
    "### Implementation"
   ]
  },
  {
   "cell_type": "code",
   "execution_count": 3,
   "metadata": {},
   "outputs": [],
   "source": [
    "# import required libraries\n",
    "import pulp\n",
    "from pulp import *"
   ]
  },
  {
   "cell_type": "code",
   "execution_count": 5,
   "metadata": {},
   "outputs": [],
   "source": [
    "# 1. Initialize Model\n",
    "'''\n",
    "Inside LpProblem() method we define the problem name and sense of objective function \n",
    "that can either be ‘LpMaximize’ or ‘LpMinimize’.\n",
    "'''\n",
    "\n",
    "model = LpProblem('Maximize Profits', sense= LpMaximize) "
   ]
  },
  {
   "cell_type": "code",
   "execution_count": 6,
   "metadata": {},
   "outputs": [],
   "source": [
    "# 2. Define Decision Variables\n",
    "'''\n",
    "Inside LpVariable() method we define a name for the variable, values for lower and upper bound, \n",
    "and category type which can be ‘Integer’, ‘Binary’, or ‘Continuous’. \n",
    "Since we want an integer value for the number of cakes and pies, we choose integer.\n",
    "'''\n",
    "\n",
    "C = LpVariable('C', lowBound=0, upBound=None, cat='Integer') # C = decision variable for Cakes\n",
    "P = LpVariable('P', lowBound=0, upBound=None, cat='Integer') # P = decision variable for Pies"
   ]
  },
  {
   "cell_type": "code",
   "execution_count": 7,
   "metadata": {},
   "outputs": [],
   "source": [
    "# 3. Define the Objective Function\n",
    "'''\n",
    "Add the objective function to the initialized model using+=\n",
    "'''\n",
    "\n",
    "model += 15 * C + 12 * P # The profit on each cake is AUD 15 and the profit on each pie is AUD 12."
   ]
  },
  {
   "cell_type": "code",
   "execution_count": 8,
   "metadata": {},
   "outputs": [],
   "source": [
    "# 4. Define the Constraints\n",
    "'''\n",
    "Add the constraints to the initialized model using += \n",
    "Notice that constraints are different from the objective function \n",
    "because they have (in)equalities on the right-hand side.\n",
    "'''\n",
    "\n",
    "# The bakery makes cakes and pies every day of a month, i.e. 30 days. \n",
    "# The cake requires to use the oven for 1 day and the pie requires 0.5 day.\n",
    "model += 1 * C + 0.5 * P <= 30\n",
    "\n",
    "# Each baker needs to work for cake 0.5 days and pie 2 days.\n",
    "# There are 2 bakers and each baker working 30 days. That means there 60 working days available. \n",
    "model += 0.5 * C + 2 * P <= 60\n",
    "\n",
    "# Packer needs to work for cake 1 day and pie 0.5 days.\n",
    "# 1 packaging packer that works only 22 days of the month.\n",
    "model += 1 * C + 0.5 * P <= 22"
   ]
  },
  {
   "cell_type": "code",
   "execution_count": 9,
   "metadata": {},
   "outputs": [
    {
     "data": {
      "text/plain": [
       "1"
      ]
     },
     "execution_count": 9,
     "metadata": {},
     "output_type": "execute_result"
    }
   ],
   "source": [
    "# 5. Solve Model\n",
    "\n",
    "# Call solve method model.solve()\n",
    "# the method returns 1 if the model is solvable\n",
    "model.solve()"
   ]
  },
  {
   "cell_type": "code",
   "execution_count": 10,
   "metadata": {},
   "outputs": [
    {
     "data": {
      "text/plain": [
       "'Optimal'"
      ]
     },
     "execution_count": 10,
     "metadata": {},
     "output_type": "execute_result"
    }
   ],
   "source": [
    "# Check the status of the solution using LpStatus[model.status]\n",
    "LpStatus[model.status]"
   ]
  },
  {
   "cell_type": "code",
   "execution_count": 11,
   "metadata": {},
   "outputs": [
    {
     "name": "stdout",
     "output_type": "stream",
     "text": [
      "8.0\n",
      "28.0\n"
     ]
    }
   ],
   "source": [
    "# Print optimized decision variables C.varValue P.varValue\n",
    "print(C.varValue)\n",
    "print(P.varValue)"
   ]
  },
  {
   "cell_type": "code",
   "execution_count": 12,
   "metadata": {},
   "outputs": [
    {
     "name": "stdout",
     "output_type": "stream",
     "text": [
      "456.0\n"
     ]
    }
   ],
   "source": [
    "# Print optimized objective function value(model.objective)\n",
    "\n",
    "print(value(model.objective))"
   ]
  }
 ],
 "metadata": {
  "kernelspec": {
   "display_name": "Python 3",
   "language": "python",
   "name": "python3"
  },
  "language_info": {
   "codemirror_mode": {
    "name": "ipython",
    "version": 3
   },
   "file_extension": ".py",
   "mimetype": "text/x-python",
   "name": "python",
   "nbconvert_exporter": "python",
   "pygments_lexer": "ipython3",
   "version": "3.7.6"
  }
 },
 "nbformat": 4,
 "nbformat_minor": 4
}
