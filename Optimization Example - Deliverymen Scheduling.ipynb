{
 "cells": [
  {
   "cell_type": "markdown",
   "metadata": {},
   "source": [
    "### Problem\n",
    "\n",
    "A delivery office runs 7 days a week. It is looking to hire some deliverymen, \n",
    "\n",
    "with the requirements to work 5 consecutive days and then 2 days off. \n",
    "\n",
    "The objective is to hire the minimum number of workers \n",
    "\n",
    "and the estimated number of deliverymen needed for each day is Monday: 25, Tuesday: 32, Wednesday: 22, Thursday: 18, Friday: 24, Saturday: 12, Sunday: 14. \n",
    "\n",
    "What would be the minimum number of deliverymen to hire?"
   ]
  },
  {
   "cell_type": "markdown",
   "metadata": {},
   "source": [
    "### Solution\n",
    "\n",
    "To solve this problem, we will use PuLP. In the implementation, we will follow the common modeling process.\n",
    "\n",
    "In this problem, we need to write down the constraints in terms of the number of workers we need to start working on each day. \n",
    "\n",
    "For example, x_0 is the number of workers starting to work on Monday, \n",
    "x_1 is the number of workers starting to work on Tuesday, etc. \n",
    "\n",
    "By doing so, we can store \n",
    "\n",
    "1. x_0 from Monday to Friday and \n",
    "\n",
    "2. x_1 from Tuesday to Saturday \n",
    "\n",
    "3. x_2 from Wednesday to Sunday\n",
    "\n",
    "4. x_3 from Thrusday to Monday \n",
    "\n",
    "5. x_4 from Friday to Tuesday\n",
    "\n",
    "6. x_5 from Saturday to Wednesday\n",
    "\n",
    "7. x_6 from Sunday to Thrusday\n",
    "\n",
    "since they need to work 5 consecutive days."
   ]
  },
  {
   "cell_type": "markdown",
   "metadata": {},
   "source": [
    "### Implementation"
   ]
  },
  {
   "cell_type": "code",
   "execution_count": 1,
   "metadata": {},
   "outputs": [],
   "source": [
    "# import required libraries\n",
    "import pulp\n",
    "from pulp import *"
   ]
  },
  {
   "cell_type": "code",
   "execution_count": 3,
   "metadata": {},
   "outputs": [],
   "source": [
    "# 1. Initialize Model\n",
    "'''\n",
    "Inside LpProblem() method we define the problem name and sense of objective function \n",
    "that can either be ‘LpMaximize’ or ‘LpMinimize’. \n",
    "In this example we want to minimize number of workers, so LpMinimize.\n",
    "'''\n",
    "\n",
    "model = LpProblem(\"Minimize Number of Workers\", LpMinimize)"
   ]
  },
  {
   "cell_type": "code",
   "execution_count": 5,
   "metadata": {},
   "outputs": [],
   "source": [
    "# 2. Define Decision Variables\n",
    "'''\n",
    "Inside LpVariable() method we define a name for the variable, values for lower and upper bound, \n",
    "and category type which can be ‘Integer’, ‘Binary’, or ‘Continuous’. \n",
    "Since we want an integer value for the number of workers, we choose integer.\n",
    "'''\n",
    "\n",
    "days = list(range(7)) # we have seven days\n",
    "x = LpVariable.dicts('workers_', days, lowBound=0, upBound=None, cat='Integer') # we need multiple working days"
   ]
  },
  {
   "cell_type": "code",
   "execution_count": 8,
   "metadata": {},
   "outputs": [],
   "source": [
    "# 3. Define the Objective Function\n",
    "'''\n",
    "Add the objective function to the initialized model using+=\n",
    "As we have a dictiony of dicision variables, we can use lpSum to take the sum. \n",
    "'''\n",
    "\n",
    "model += lpSum([x[i] for i in days])"
   ]
  },
  {
   "cell_type": "code",
   "execution_count": 9,
   "metadata": {},
   "outputs": [],
   "source": [
    "# 4. Define the Constraints\n",
    "'''\n",
    "Add the constraints to the initialized model using += \n",
    "Notice that constraints are different from the objective function \n",
    "because they have (in)equalities on the right-hand side.\n",
    "\n",
    "Recall \n",
    "x_0 from Monday to Friday and  \n",
    "x_1 from Tuesday to Saturday \n",
    "x_2 from Wednesday to Sunday\n",
    "x_3 from Thrusday to Monday \n",
    "x_4 from Friday to Tuesday\n",
    "x_5 from Saturday to Wednesday\n",
    "x_6 from Sunday to Thrusday\n",
    "'''\n",
    "\n",
    "model += x[0] + x[3] + x[4] + x[5] + x[6] >= 25 # Monday: 25\n",
    "model += x[0] + x[1] + x[4] + x[5] + x[6] >= 32 # Tuesday: 32 \n",
    "model += x[0] + x[1] + x[2] + x[5] + x[6] >= 22 # Wednesday: 22\n",
    "model += x[0] + x[1] + x[2] + x[3] + x[6] >= 18 # Thursday: 18\n",
    "model += x[0] + x[1] + x[2] + x[3] + x[4] >= 24 # Friday: 24\n",
    "model += x[1] + x[2] + x[3] + x[4] + x[5] >= 12 # Saturday: 12\n",
    "model += x[2] + x[3] + x[4] + x[5] + x[6] >= 14 # Sunday: 14"
   ]
  },
  {
   "cell_type": "code",
   "execution_count": 10,
   "metadata": {},
   "outputs": [
    {
     "data": {
      "text/plain": [
       "1"
      ]
     },
     "execution_count": 10,
     "metadata": {},
     "output_type": "execute_result"
    }
   ],
   "source": [
    "# 5. Solve Model\n",
    "# the method returns 1 if the model is solvable\n",
    "model.solve()"
   ]
  },
  {
   "cell_type": "code",
   "execution_count": 11,
   "metadata": {},
   "outputs": [
    {
     "name": "stdout",
     "output_type": "stream",
     "text": [
      "Status: Optimal\n"
     ]
    }
   ],
   "source": [
    "#Print model status\n",
    "print('Status:', LpStatus[model.status])"
   ]
  },
  {
   "cell_type": "code",
   "execution_count": 12,
   "metadata": {},
   "outputs": [
    {
     "name": "stdout",
     "output_type": "stream",
     "text": [
      "workers__0 = 7.0\n",
      "workers__1 = 7.0\n",
      "workers__2 = 0.0\n",
      "workers__3 = 0.0\n",
      "workers__4 = 10.0\n",
      "workers__5 = 0.0\n",
      "workers__6 = 8.0\n"
     ]
    }
   ],
   "source": [
    "#Print solution of optimized decision variables\n",
    "for variable in model.variables():\n",
    "    print ('{} = {}'.format(variable.name, variable.varValue))"
   ]
  },
  {
   "cell_type": "code",
   "execution_count": 13,
   "metadata": {},
   "outputs": [
    {
     "name": "stdout",
     "output_type": "stream",
     "text": [
      "32.0\n"
     ]
    }
   ],
   "source": [
    "# Print optimized objective function value(model.objective)\n",
    "\n",
    "print(value(model.objective))"
   ]
  },
  {
   "cell_type": "markdown",
   "metadata": {},
   "source": [
    "As the solution suggests, we need to hire 32 deliverymen in total, 7 of them start working on Monday, the other 7 on Tuesday, 10 on Friday, and 8 on Sunday."
   ]
  },
  {
   "cell_type": "code",
   "execution_count": 14,
   "metadata": {},
   "outputs": [],
   "source": [
    "# Reference: https://towardsdatascience.com/how-to-develop-optimization-models-in-python-1a03ef72f5b4"
   ]
  }
 ],
 "metadata": {
  "kernelspec": {
   "display_name": "Python 3",
   "language": "python",
   "name": "python3"
  },
  "language_info": {
   "codemirror_mode": {
    "name": "ipython",
    "version": 3
   },
   "file_extension": ".py",
   "mimetype": "text/x-python",
   "name": "python",
   "nbconvert_exporter": "python",
   "pygments_lexer": "ipython3",
   "version": "3.7.6"
  }
 },
 "nbformat": 4,
 "nbformat_minor": 4
}
